{
 "cells": [
  {
   "cell_type": "code",
   "execution_count": 2,
   "id": "92819f09-dce2-4e8c-bd9a-a7d4ad760c13",
   "metadata": {
    "tags": []
   },
   "outputs": [],
   "source": [
    "import pandas as pd\n",
    "import json\n",
    "from tqdm import tqdm\n",
    "import numpy as np\n",
    "import random\n",
    "import matplotlib.pyplot as plt\n",
    "import matplotlib.image as mpimg\n",
    "from mpl_toolkits.axes_grid1 import ImageGrid\n",
    "import torchvision.transforms as transforms\n",
    "import pickle\n",
    "import json\n",
    "import sys\n",
    "sys.path.append(\"/home/jupyter/DIG-In/src/vit_patching/models\")\n",
    "import patch_utils as pu\n",
    "import torchvision\n",
    "import torch\n",
    "import imp\n",
    "imp.reload(pu)\n",
    "\n",
    "import get_patch_ViT16_features_v1 as gp\n",
    "\n",
    "\n",
    "img_size = 224\n",
    "n_patches = 224 // 16\n",
    "transforms_list = transforms.Compose([\n",
    "        gp.CenterCropLongEdge(),\n",
    "        transforms.Resize(img_size),  # Use dynamic img_size based on the model\n",
    "        transforms.ToTensor(),\n",
    "        # TRANSFORM_NORMALIZE\n",
    "    ])\n",
    "    \n",
    "preprocessor1 = transforms_list\n",
    "preprocessor2 = gp.TRANSFORM_NORMALIZE"
   ]
  },
  {
   "cell_type": "code",
   "execution_count": 3,
   "id": "fc9bc2df-7d5c-4a3b-86ed-6328e131ab3d",
   "metadata": {
    "tags": []
   },
   "outputs": [],
   "source": [
    "# inputs cell\n",
    "root_dir = \"/home/jupyter/DIG-In/src/prc/manifold_analysis\"\n",
    "full_json = f\"{root_dir}/vit_full.json\"\n",
    "obj_seg_json = f\"{root_dir}/vit_obj_seg.json\"\n",
    "bg_seg_json = f\"{root_dir}/vit_bg_non_all.json\"\n",
    "region_for_analysis = \"Europe\"\n",
    "obj_for_analysis = \"cooking pot\"\n",
    "random.seed(42)"
   ]
  },
  {
   "cell_type": "code",
   "execution_count": 4,
   "id": "234d9530-74da-4814-aecf-60f341b16ef3",
   "metadata": {
    "tags": []
   },
   "outputs": [],
   "source": [
    "full_img_root = \"/home/jupyter/geode/images\"\n",
    "seg_obj_root = full_img_root\n",
    "seg_bg_root = full_img_root\n",
    "full_img_gen_root = \"/home/jupyter/696DS-data/generated-data/LDM-1-5/geode_prompts_regions_balanceddataset\"\n",
    "seg_obj_gen_root = full_img_gen_root\n",
    "seg_bg_gen_root = full_img_gen_root\n",
    "images_folders = [(full_img_root, full_img_gen_root), (seg_obj_root, seg_obj_gen_root), (seg_bg_root, seg_bg_gen_root)]"
   ]
  },
  {
   "cell_type": "code",
   "execution_count": 5,
   "id": "9cde113f-6eeb-4bd9-a66d-b561cc743e19",
   "metadata": {
    "tags": []
   },
   "outputs": [],
   "source": [
    "all_fake_images_path = \"/home/jupyter/DIG-In/data/geode_prompts_regions_only_balanceddataset_processed.csv\"\n",
    "fake_df = pd.read_csv(all_fake_images_path)\n",
    "fake_df = fake_df[(fake_df[\"region\"]==region_for_analysis)*(fake_df[\"object\"]==obj_for_analysis)]\n",
    "all_fake_img_ids = fake_df[\"file_path\"].tolist()"
   ]
  },
  {
   "cell_type": "code",
   "execution_count": 6,
   "id": "d761895c-382f-406b-bf37-820cb7524c49",
   "metadata": {
    "tags": []
   },
   "outputs": [
    {
     "data": {
      "text/plain": [
       "['cooking_pot_in_Europe__35640.png',\n",
       " 'cooking_pot_in_Europe__35641.png',\n",
       " 'cooking_pot_in_Europe__35642.png',\n",
       " 'cooking_pot_in_Europe__35643.png',\n",
       " 'cooking_pot_in_Europe__35644.png']"
      ]
     },
     "execution_count": 6,
     "metadata": {},
     "output_type": "execute_result"
    }
   ],
   "source": [
    "all_fake_img_ids[:5]"
   ]
  },
  {
   "cell_type": "code",
   "execution_count": 7,
   "id": "c9429031-b590-46f8-9091-2d671fc8039f",
   "metadata": {
    "tags": []
   },
   "outputs": [],
   "source": [
    "# read all jsons\n",
    "with open(full_json, 'r') as f:\n",
    "    full_setting = json.load(f)\n",
    "\n",
    "with open(obj_seg_json, 'r') as f:\n",
    "    obj_seg_setting = json.load(f)\n",
    "\n",
    "with open(bg_seg_json, 'r') as f:\n",
    "    bg_seg_setting = json.load(f)"
   ]
  },
  {
   "cell_type": "code",
   "execution_count": 8,
   "id": "28226ae5-e972-4f75-ab0a-71d8dc2cb1e4",
   "metadata": {
    "tags": []
   },
   "outputs": [
    {
     "name": "stdout",
     "output_type": "stream",
     "text": [
      "21672 21672 21672\n",
      "51 4082\n"
     ]
    }
   ],
   "source": [
    "# sanity checks\n",
    "print(len(full_setting.keys()), len(obj_seg_setting.keys()), len(bg_seg_setting.keys()))\n",
    "print(len(set(full_setting.keys())-set(obj_seg_setting.keys())), len(set(full_setting.keys())-set(bg_seg_setting.keys())))"
   ]
  },
  {
   "cell_type": "code",
   "execution_count": 9,
   "id": "6120d46d-136f-47a2-bbfa-093e31e9f10a",
   "metadata": {
    "tags": []
   },
   "outputs": [
    {
     "name": "stderr",
     "output_type": "stream",
     "text": [
      "100%|██████████| 21672/21672 [00:00<00:00, 914458.02it/s]\n"
     ]
    }
   ],
   "source": [
    "img_analyzer = {\n",
    "    \"full_True\": [],\n",
    "    \"full_False\": [],\n",
    "    # \"obj_True\": [],\n",
    "    # \"obj_False\": [],\n",
    "    # \"bg_True\": [],\n",
    "    # \"bg_False\": []\n",
    "}\n",
    "true_full = []\n",
    "for img_id in tqdm(full_setting):\n",
    "    if img_id in obj_seg_setting and img_id in bg_seg_setting:\n",
    "        true_full.extend(full_setting[img_id][\"fakeImages\"])\n",
    "        \n",
    "true_full = [x for x in true_full if (obj_for_analysis.replace(\" \",\"_\") in x) and (region_for_analysis in x)]\n",
    "true_full = list(set(true_full))"
   ]
  },
  {
   "cell_type": "code",
   "execution_count": 10,
   "id": "162d0ac5-6d98-476a-9747-75b628e2208b",
   "metadata": {
    "tags": []
   },
   "outputs": [
    {
     "data": {
      "text/plain": [
       "49"
      ]
     },
     "execution_count": 10,
     "metadata": {},
     "output_type": "execute_result"
    }
   ],
   "source": [
    "len(true_full)"
   ]
  },
  {
   "cell_type": "code",
   "execution_count": 11,
   "id": "b9b442bf-632b-44af-91cc-2170c35dfd24",
   "metadata": {
    "tags": []
   },
   "outputs": [
    {
     "data": {
      "text/plain": [
       "131"
      ]
     },
     "execution_count": 11,
     "metadata": {},
     "output_type": "execute_result"
    }
   ],
   "source": [
    "false_full = list(set(all_fake_img_ids)-set(true_full))\n",
    "len(false_full)"
   ]
  },
  {
   "cell_type": "code",
   "execution_count": 12,
   "id": "0536d983-526c-49a8-b7c9-e54e592f7fcb",
   "metadata": {
    "tags": []
   },
   "outputs": [
    {
     "data": {
      "text/plain": [
       "['cooking_pot_in_Europe__35641.png',\n",
       " 'cooking_pot_in_Europe__35642.png',\n",
       " 'cooking_pot_in_Europe__35643.png',\n",
       " 'cooking_pot_in_Europe__35644.png',\n",
       " 'cooking_pot_in_Europe__35645.png',\n",
       " 'cooking_pot_in_Europe__35647.png',\n",
       " 'cooking_pot_in_Europe__35648.png',\n",
       " 'cooking_pot_in_Europe__35649.png',\n",
       " 'cooking_pot_in_Europe__35651.png',\n",
       " 'cooking_pot_in_Europe__35652.png',\n",
       " 'cooking_pot_in_Europe__35653.png',\n",
       " 'cooking_pot_in_Europe__35655.png',\n",
       " 'cooking_pot_in_Europe__35659.png',\n",
       " 'cooking_pot_in_Europe__35660.png',\n",
       " 'cooking_pot_in_Europe__35661.png',\n",
       " 'cooking_pot_in_Europe__35662.png',\n",
       " 'cooking_pot_in_Europe__35663.png',\n",
       " 'cooking_pot_in_Europe__35664.png',\n",
       " 'cooking_pot_in_Europe__35665.png',\n",
       " 'cooking_pot_in_Europe__35666.png',\n",
       " 'cooking_pot_in_Europe__35667.png',\n",
       " 'cooking_pot_in_Europe__35668.png',\n",
       " 'cooking_pot_in_Europe__35671.png',\n",
       " 'cooking_pot_in_Europe__35673.png',\n",
       " 'cooking_pot_in_Europe__35674.png',\n",
       " 'cooking_pot_in_Europe__35676.png',\n",
       " 'cooking_pot_in_Europe__35677.png',\n",
       " 'cooking_pot_in_Europe__35678.png',\n",
       " 'cooking_pot_in_Europe__35679.png',\n",
       " 'cooking_pot_in_Europe__35682.png',\n",
       " 'cooking_pot_in_Europe__35683.png',\n",
       " 'cooking_pot_in_Europe__35684.png',\n",
       " 'cooking_pot_in_Europe__35685.png',\n",
       " 'cooking_pot_in_Europe__35687.png',\n",
       " 'cooking_pot_in_Europe__35688.png',\n",
       " 'cooking_pot_in_Europe__35689.png',\n",
       " 'cooking_pot_in_Europe__35690.png',\n",
       " 'cooking_pot_in_Europe__35691.png',\n",
       " 'cooking_pot_in_Europe__35693.png',\n",
       " 'cooking_pot_in_Europe__35694.png',\n",
       " 'cooking_pot_in_Europe__35695.png',\n",
       " 'cooking_pot_in_Europe__35697.png',\n",
       " 'cooking_pot_in_Europe__35699.png',\n",
       " 'cooking_pot_in_Europe__35700.png',\n",
       " 'cooking_pot_in_Europe__35703.png',\n",
       " 'cooking_pot_in_Europe__35705.png',\n",
       " 'cooking_pot_in_Europe__35706.png',\n",
       " 'cooking_pot_in_Europe__35707.png',\n",
       " 'cooking_pot_in_Europe__35708.png',\n",
       " 'cooking_pot_in_Europe__35709.png',\n",
       " 'cooking_pot_in_Europe__35711.png',\n",
       " 'cooking_pot_in_Europe__35712.png',\n",
       " 'cooking_pot_in_Europe__35713.png',\n",
       " 'cooking_pot_in_Europe__35715.png',\n",
       " 'cooking_pot_in_Europe__35716.png',\n",
       " 'cooking_pot_in_Europe__35717.png',\n",
       " 'cooking_pot_in_Europe__35721.png',\n",
       " 'cooking_pot_in_Europe__35723.png',\n",
       " 'cooking_pot_in_Europe__35725.png',\n",
       " 'cooking_pot_in_Europe__35727.png',\n",
       " 'cooking_pot_in_Europe__35729.png',\n",
       " 'cooking_pot_in_Europe__35730.png',\n",
       " 'cooking_pot_in_Europe__35731.png',\n",
       " 'cooking_pot_in_Europe__35732.png',\n",
       " 'cooking_pot_in_Europe__35733.png',\n",
       " 'cooking_pot_in_Europe__35734.png',\n",
       " 'cooking_pot_in_Europe__35735.png',\n",
       " 'cooking_pot_in_Europe__35736.png',\n",
       " 'cooking_pot_in_Europe__35737.png',\n",
       " 'cooking_pot_in_Europe__35738.png',\n",
       " 'cooking_pot_in_Europe__35739.png',\n",
       " 'cooking_pot_in_Europe__35740.png',\n",
       " 'cooking_pot_in_Europe__35741.png',\n",
       " 'cooking_pot_in_Europe__35742.png',\n",
       " 'cooking_pot_in_Europe__35743.png',\n",
       " 'cooking_pot_in_Europe__35744.png',\n",
       " 'cooking_pot_in_Europe__35745.png',\n",
       " 'cooking_pot_in_Europe__35746.png',\n",
       " 'cooking_pot_in_Europe__35748.png',\n",
       " 'cooking_pot_in_Europe__35749.png',\n",
       " 'cooking_pot_in_Europe__35750.png',\n",
       " 'cooking_pot_in_Europe__35751.png',\n",
       " 'cooking_pot_in_Europe__35752.png',\n",
       " 'cooking_pot_in_Europe__35753.png',\n",
       " 'cooking_pot_in_Europe__35754.png',\n",
       " 'cooking_pot_in_Europe__35756.png',\n",
       " 'cooking_pot_in_Europe__35760.png',\n",
       " 'cooking_pot_in_Europe__35761.png',\n",
       " 'cooking_pot_in_Europe__35762.png',\n",
       " 'cooking_pot_in_Europe__35763.png',\n",
       " 'cooking_pot_in_Europe__35764.png',\n",
       " 'cooking_pot_in_Europe__35766.png',\n",
       " 'cooking_pot_in_Europe__35767.png',\n",
       " 'cooking_pot_in_Europe__35769.png',\n",
       " 'cooking_pot_in_Europe__35771.png',\n",
       " 'cooking_pot_in_Europe__35773.png',\n",
       " 'cooking_pot_in_Europe__35774.png',\n",
       " 'cooking_pot_in_Europe__35778.png',\n",
       " 'cooking_pot_in_Europe__35779.png',\n",
       " 'cooking_pot_in_Europe__35782.png',\n",
       " 'cooking_pot_in_Europe__35784.png',\n",
       " 'cooking_pot_in_Europe__35785.png',\n",
       " 'cooking_pot_in_Europe__35786.png',\n",
       " 'cooking_pot_in_Europe__35787.png',\n",
       " 'cooking_pot_in_Europe__35788.png',\n",
       " 'cooking_pot_in_Europe__35789.png',\n",
       " 'cooking_pot_in_Europe__35790.png',\n",
       " 'cooking_pot_in_Europe__35791.png',\n",
       " 'cooking_pot_in_Europe__35792.png',\n",
       " 'cooking_pot_in_Europe__35793.png',\n",
       " 'cooking_pot_in_Europe__35794.png',\n",
       " 'cooking_pot_in_Europe__35795.png',\n",
       " 'cooking_pot_in_Europe__35796.png',\n",
       " 'cooking_pot_in_Europe__35798.png',\n",
       " 'cooking_pot_in_Europe__35799.png',\n",
       " 'cooking_pot_in_Europe__35801.png',\n",
       " 'cooking_pot_in_Europe__35802.png',\n",
       " 'cooking_pot_in_Europe__35803.png',\n",
       " 'cooking_pot_in_Europe__35804.png',\n",
       " 'cooking_pot_in_Europe__35805.png',\n",
       " 'cooking_pot_in_Europe__35806.png',\n",
       " 'cooking_pot_in_Europe__35807.png',\n",
       " 'cooking_pot_in_Europe__35808.png',\n",
       " 'cooking_pot_in_Europe__35809.png',\n",
       " 'cooking_pot_in_Europe__35811.png',\n",
       " 'cooking_pot_in_Europe__35813.png',\n",
       " 'cooking_pot_in_Europe__35814.png',\n",
       " 'cooking_pot_in_Europe__35815.png',\n",
       " 'cooking_pot_in_Europe__35816.png',\n",
       " 'cooking_pot_in_Europe__35818.png',\n",
       " 'cooking_pot_in_Europe__35819.png']"
      ]
     },
     "execution_count": 12,
     "metadata": {},
     "output_type": "execute_result"
    }
   ],
   "source": [
    "false_full.sort()\n",
    "false_full"
   ]
  },
  {
   "cell_type": "code",
   "execution_count": 13,
   "id": "cd83fd37-2c5c-46ac-acb3-f5d39f38e7c6",
   "metadata": {
    "tags": []
   },
   "outputs": [],
   "source": [
    "selected_five = ['cooking_pot_in_Europe__35641.png',\n",
    " 'cooking_pot_in_Europe__35642.png',\n",
    " # 'cooking_pot_in_Europe__35643.png',\n",
    " # 'cooking_pot_in_Europe__35644.png',\n",
    " # 'cooking_pot_in_Europe__35645.png',\n",
    " # 'cooking_pot_in_Europe__35647.png',\n",
    " 'cooking_pot_in_Europe__35648.png',\n",
    " 'cooking_pot_in_Europe__35649.png',\n",
    " 'cooking_pot_in_Europe__35651.png',]"
   ]
  },
  {
   "cell_type": "code",
   "execution_count": null,
   "id": "dfba2752-e4cb-4c31-8de2-9500c5dc2df1",
   "metadata": {},
   "outputs": [],
   "source": [
    "bg_setting = \"BG-only\"\n",
    "full_title = \"GeoDE\"\n",
    "gen_full_title = \"LDM\"\n",
    "obj_setting = \"Obj-only\"\n",
    "obj=\"cooking_pot\"\n",
    "alpha_filler = 170\n",
    "x,y = 1,5\n",
    "fig, axs = plt.subplots(x,y, figsize=(6,6))\n",
    "padding_value = 0.02\n",
    "plt.subplots_adjust(wspace=0.02, hspace=0.02)\n",
    "img_paths = selected_five\n",
    "for i in range(len(img_paths)):\n",
    "    image_pil = Image.open(img_paths[i])\n",
    "    img2 = preprocessor1(image_pil)\n",
    "    \n",
    "    img3 = F.to_pil_image(img2)\n",
    "    \n",
    "    img3 = pu.border_and_alpha(img, patch_mask, fill_alpha=True, alpha_filler=alpha_filler)\n",
    "    axs[i].imshow(img3)\n",
    "    axs[i].set_xticks([], [])\n",
    "    axs[i].set_yticks([], [])\n",
    "\n",
    "\n",
    "    axs[i].spines['top'].set_visible(False)\n",
    "    axs[i].spines['right'].set_visible(False)\n",
    "    axs[i].spines['bottom'].set_visible(False)\n",
    "    axs[i].spines['left'].set_visible(False)\n",
    "\n",
    "axs[0].set_position([axs[0].get_position().x0- padding_value, axs[0].get_position().y0, \n",
    "                             axs[0].get_position().width , axs[0].get_position().height])\n",
    "axs[0].set_ylabel(f\"{bg_setting}\", fontsize=25)\n",
    "axs[0].set_title(f\"{full_title}\", fontsize=25)\n",
    "# title_obj.set_position([1.00, 1.03])\n",
    "# plt.savefig(f\"ldm_failure_modes/{mode}_car\" + \".pdf\",bbox_inches='tight', format='pdf', dpi=400)\n",
    "\n",
    "plt.show()"
   ]
  }
 ],
 "metadata": {
  "environment": {
   "kernel": "myenv",
   "name": "workbench-notebooks.m121",
   "type": "gcloud",
   "uri": "us-docker.pkg.dev/deeplearning-platform-release/gcr.io/workbench-notebooks:m121"
  },
  "kernelspec": {
   "display_name": "Python (langsam2) (Local)",
   "language": "python",
   "name": "myenv"
  },
  "language_info": {
   "codemirror_mode": {
    "name": "ipython",
    "version": 3
   },
   "file_extension": ".py",
   "mimetype": "text/x-python",
   "name": "python",
   "nbconvert_exporter": "python",
   "pygments_lexer": "ipython3",
   "version": "3.8.19"
  }
 },
 "nbformat": 4,
 "nbformat_minor": 5
}
